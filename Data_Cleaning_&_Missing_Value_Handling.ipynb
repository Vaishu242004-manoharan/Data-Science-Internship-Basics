{
  "nbformat": 4,
  "nbformat_minor": 0,
  "metadata": {
    "colab": {
      "provenance": [],
      "authorship_tag": "ABX9TyNBadncaMpf/mBN9N53nL27",
      "include_colab_link": true
    },
    "kernelspec": {
      "name": "python3",
      "display_name": "Python 3"
    },
    "language_info": {
      "name": "python"
    }
  },
  "cells": [
    {
      "cell_type": "markdown",
      "metadata": {
        "id": "view-in-github",
        "colab_type": "text"
      },
      "source": [
        "<a href=\"https://colab.research.google.com/github/Vaishu242004-manoharan/Data-Science-Internship-Basics/blob/main/Data_Cleaning_%26_Missing_Value_Handling.ipynb\" target=\"_parent\"><img src=\"https://colab.research.google.com/assets/colab-badge.svg\" alt=\"Open In Colab\"/></a>"
      ]
    },
    {
      "cell_type": "code",
      "execution_count": 2,
      "metadata": {
        "colab": {
          "base_uri": "https://localhost:8080/"
        },
        "id": "e-ViE0CAKWm1",
        "outputId": "bf4444c1-559b-41b1-9ac2-3fb40f59a408"
      },
      "outputs": [
        {
          "output_type": "stream",
          "name": "stdout",
          "text": [
            "Initial Dataset:\n",
            "   PassengerId  Survived  Pclass  \\\n",
            "0            1         0       3   \n",
            "1            2         1       1   \n",
            "2            3         1       3   \n",
            "3            4         1       1   \n",
            "4            5         0       3   \n",
            "\n",
            "                                                Name     Sex   Age  SibSp  \\\n",
            "0                            Braund, Mr. Owen Harris    male  22.0      1   \n",
            "1  Cumings, Mrs. John Bradley (Florence Briggs Th...  female  38.0      1   \n",
            "2                             Heikkinen, Miss. Laina  female  26.0      0   \n",
            "3       Futrelle, Mrs. Jacques Heath (Lily May Peel)  female  35.0      1   \n",
            "4                           Allen, Mr. William Henry    male  35.0      0   \n",
            "\n",
            "   Parch            Ticket     Fare Cabin Embarked  \n",
            "0      0         A/5 21171   7.2500   NaN        S  \n",
            "1      0          PC 17599  71.2833   C85        C  \n",
            "2      0  STON/O2. 3101282   7.9250   NaN        S  \n",
            "3      0            113803  53.1000  C123        S  \n",
            "4      0            373450   8.0500   NaN        S  \n",
            "\n",
            "Missing Values:\n",
            "PassengerId      0\n",
            "Survived         0\n",
            "Pclass           0\n",
            "Name             0\n",
            "Sex              0\n",
            "Age            177\n",
            "SibSp            0\n",
            "Parch            0\n",
            "Ticket           0\n",
            "Fare             0\n",
            "Cabin          687\n",
            "Embarked         2\n",
            "dtype: int64\n",
            "\n",
            "Cleaned Dataset:\n",
            "   passengerid  survived  pclass  \\\n",
            "0            1         0       3   \n",
            "1            2         1       1   \n",
            "2            3         1       3   \n",
            "3            4         1       1   \n",
            "4            5         0       3   \n",
            "\n",
            "                                                name     sex   age  sibsp  \\\n",
            "0                            Braund, Mr. Owen Harris    male  22.0      1   \n",
            "1  Cumings, Mrs. John Bradley (Florence Briggs Th...  female  38.0      1   \n",
            "2                             Heikkinen, Miss. Laina  female  26.0      0   \n",
            "3       Futrelle, Mrs. Jacques Heath (Lily May Peel)  female  35.0      1   \n",
            "4                           Allen, Mr. William Henry    male  35.0      0   \n",
            "\n",
            "   parch            ticket     fare cabin embarked  \n",
            "0      0         A/5 21171   7.2500   NaN        S  \n",
            "1      0          PC 17599  71.2833   C85        C  \n",
            "2      0  STON/O2. 3101282   7.9250   NaN        S  \n",
            "3      0            113803  53.1000  C123        S  \n",
            "4      0            373450   8.0500   NaN        S  \n",
            "\n",
            "Missing Values After Cleaning:\n",
            "passengerid      0\n",
            "survived         0\n",
            "pclass           0\n",
            "name             0\n",
            "sex              0\n",
            "age              0\n",
            "sibsp            0\n",
            "parch            0\n",
            "ticket           0\n",
            "fare             0\n",
            "cabin          687\n",
            "embarked         0\n",
            "dtype: int64\n"
          ]
        },
        {
          "output_type": "stream",
          "name": "stderr",
          "text": [
            "<ipython-input-2-1bfd2bf3e1f1>:17: FutureWarning: A value is trying to be set on a copy of a DataFrame or Series through chained assignment using an inplace method.\n",
            "The behavior will change in pandas 3.0. This inplace method will never work because the intermediate object on which we are setting values always behaves as a copy.\n",
            "\n",
            "For example, when doing 'df[col].method(value, inplace=True)', try using 'df.method({col: value}, inplace=True)' or df[col] = df[col].method(value) instead, to perform the operation inplace on the original object.\n",
            "\n",
            "\n",
            "  titanic['Age'].fillna(titanic['Age'].mean(), inplace=True)\n"
          ]
        }
      ],
      "source": [
        "import pandas as pd\n",
        "\n",
        "# Load the Titanic dataset\n",
        "url = \"https://raw.githubusercontent.com/datasciencedojo/datasets/master/titanic.csv\"\n",
        "titanic = pd.read_csv(url)\n",
        "\n",
        "# Show the first few rows of the dataset\n",
        "print(\"Initial Dataset:\")\n",
        "print(titanic.head())\n",
        "\n",
        "# 1. Identify missing values\n",
        "print(\"\\nMissing Values:\")\n",
        "print(titanic.isnull().sum())  # Displays the number of missing values in each column\n",
        "\n",
        "# 2. Handle missing values\n",
        "# Option 1: Fill missing values (e.g., filling missing 'Age' with the mean of the column)\n",
        "titanic['Age'].fillna(titanic['Age'].mean(), inplace=True)\n",
        "\n",
        "# Option 2: Drop rows with missing 'Embarked' (assuming 'Embarked' is critical for analysis)\n",
        "titanic.dropna(subset=['Embarked'], inplace=True)\n",
        "\n",
        "# Alternatively, if you want to drop rows with any missing values, you can use:\n",
        "# titanic.dropna(inplace=True)\n",
        "\n",
        "# 3. Remove duplicate entries\n",
        "titanic.drop_duplicates(inplace=True)\n",
        "\n",
        "# 4. Standardize column names: Convert to lowercase and remove spaces\n",
        "titanic.columns = titanic.columns.str.lower().str.replace(' ', '_')\n",
        "\n",
        "# Show the cleaned dataset\n",
        "print(\"\\nCleaned Dataset:\")\n",
        "print(titanic.head())\n",
        "\n",
        "# Display the number of missing values after cleaning\n",
        "print(\"\\nMissing Values After Cleaning:\")\n",
        "print(titanic.isnull().sum())\n"
      ]
    }
  ]
}